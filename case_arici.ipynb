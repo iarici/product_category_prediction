{
 "cells": [
  {
   "cell_type": "markdown",
   "id": "0f313d67",
   "metadata": {},
   "source": [
    "# Case Study: Multiclass Classification Model for Product Descriptions\n",
    "## Irem Arici"
   ]
  },
  {
   "cell_type": "markdown",
   "id": "be98a2c9",
   "metadata": {},
   "source": [
    "#### Installing dependencies & libraries"
   ]
  },
  {
   "cell_type": "code",
   "execution_count": 59,
   "id": "a92ac8c3",
   "metadata": {},
   "outputs": [],
   "source": [
    "import pandas as pd\n",
    "import numpy as np\n",
    "import string\n",
    "from string import digits\n",
    "import nltk\n",
    "from nltk import punkt\n",
    "from nltk.corpus import stopwords\n",
    "from nltk.tokenize import word_tokenize\n",
    "import matplotlib.pyplot as plt\n",
    "import seaborn as sns"
   ]
  },
  {
   "cell_type": "markdown",
   "id": "e2492122",
   "metadata": {},
   "source": [
    "#### Loading the category and explanation datasets"
   ]
  },
  {
   "cell_type": "code",
   "execution_count": 60,
   "id": "d853477f",
   "metadata": {},
   "outputs": [],
   "source": [
    "category = pd.read_table(\"Product_Categories.txt\", sep=\";\", header=None, on_bad_lines=\"skip\")\n",
    "explanation = pd.read_table(\"Product_Explanation.txt\", sep=\";\", header=None, on_bad_lines=\"skip\")"
   ]
  },
  {
   "cell_type": "code",
   "execution_count": 61,
   "id": "2325c871",
   "metadata": {},
   "outputs": [
    {
     "name": "stdout",
     "output_type": "stream",
     "text": [
      "The length of the category dataframe is 1782\n",
      "\n",
      "\n",
      "The length of the explanation dataframe is 1468\n"
     ]
    }
   ],
   "source": [
    "print(f\"The length of the category dataframe is {len(category)}\")\n",
    "print(\"\\n\")\n",
    "print(f\"The length of the explanation dataframe is {len(explanation)}\")"
   ]
  },
  {
   "cell_type": "markdown",
   "id": "5ec0dd7d",
   "metadata": {},
   "source": [
    "## 1. Data Preprocessing and EDA"
   ]
  },
  {
   "cell_type": "markdown",
   "id": "6fe444a8",
   "metadata": {},
   "source": [
    "### 1.1. Category dataset exploration and preprocessing"
   ]
  },
  {
   "cell_type": "code",
   "execution_count": 62,
   "id": "6fd102bf",
   "metadata": {
    "scrolled": false
   },
   "outputs": [
    {
     "data": {
      "text/html": [
       "<div>\n",
       "<style scoped>\n",
       "    .dataframe tbody tr th:only-of-type {\n",
       "        vertical-align: middle;\n",
       "    }\n",
       "\n",
       "    .dataframe tbody tr th {\n",
       "        vertical-align: top;\n",
       "    }\n",
       "\n",
       "    .dataframe thead th {\n",
       "        text-align: right;\n",
       "    }\n",
       "</style>\n",
       "<table border=\"1\" class=\"dataframe\">\n",
       "  <thead>\n",
       "    <tr style=\"text-align: right;\">\n",
       "      <th></th>\n",
       "      <th>0</th>\n",
       "      <th>1</th>\n",
       "    </tr>\n",
       "  </thead>\n",
       "  <tbody>\n",
       "    <tr>\n",
       "      <th>0</th>\n",
       "      <td>116</td>\n",
       "      <td>TELEKOM &gt; AKILLI TELEFON</td>\n",
       "    </tr>\n",
       "    <tr>\n",
       "      <th>1</th>\n",
       "      <td>462</td>\n",
       "      <td>Bilgisayar &gt; Taşınabilir Bilgisayarlar</td>\n",
       "    </tr>\n",
       "    <tr>\n",
       "      <th>2</th>\n",
       "      <td>1286</td>\n",
       "      <td>Cep Telefonları &gt; APPLE</td>\n",
       "    </tr>\n",
       "    <tr>\n",
       "      <th>3</th>\n",
       "      <td>1290</td>\n",
       "      <td>Cep Telefonları &gt; SAMSUNG</td>\n",
       "    </tr>\n",
       "    <tr>\n",
       "      <th>4</th>\n",
       "      <td>1300</td>\n",
       "      <td>Ev Elektroniği &gt; Televizyonlar &gt; SAMSUNG</td>\n",
       "    </tr>\n",
       "    <tr>\n",
       "      <th>5</th>\n",
       "      <td>1665</td>\n",
       "      <td>Bilgisayar &gt; Bilgisayar Parçaları &gt; Monitör &gt; ...</td>\n",
       "    </tr>\n",
       "    <tr>\n",
       "      <th>6</th>\n",
       "      <td>2021</td>\n",
       "      <td>Cep Telefonu &gt; Sony</td>\n",
       "    </tr>\n",
       "    <tr>\n",
       "      <th>7</th>\n",
       "      <td>2485</td>\n",
       "      <td>PC / Monitör &gt; Monitör</td>\n",
       "    </tr>\n",
       "    <tr>\n",
       "      <th>8</th>\n",
       "      <td>2495</td>\n",
       "      <td>Bilgisayar Ürünleri &gt; Veri Depolama &gt; Taşınabi...</td>\n",
       "    </tr>\n",
       "    <tr>\n",
       "      <th>9</th>\n",
       "      <td>2503</td>\n",
       "      <td>Fotoğraf / Elektronik &gt; Dijital Fotoğraf Makinesi</td>\n",
       "    </tr>\n",
       "    <tr>\n",
       "      <th>10</th>\n",
       "      <td>2580</td>\n",
       "      <td>Küçük Ev Aletleri &gt; ütü</td>\n",
       "    </tr>\n",
       "    <tr>\n",
       "      <th>11</th>\n",
       "      <td>2838</td>\n",
       "      <td>Cep Telefonu &gt; Sony Ericsson</td>\n",
       "    </tr>\n",
       "    <tr>\n",
       "      <th>12</th>\n",
       "      <td>2842</td>\n",
       "      <td>Cep Telefonu &gt; Samsung Fiyatları</td>\n",
       "    </tr>\n",
       "    <tr>\n",
       "      <th>13</th>\n",
       "      <td>4376</td>\n",
       "      <td>Cep Telefonu &gt; SAMSUNG</td>\n",
       "    </tr>\n",
       "    <tr>\n",
       "      <th>14</th>\n",
       "      <td>4936</td>\n",
       "      <td>Küçük Ev Aletleri</td>\n",
       "    </tr>\n",
       "    <tr>\n",
       "      <th>15</th>\n",
       "      <td>5226</td>\n",
       "      <td>Led Tv &gt; LG</td>\n",
       "    </tr>\n",
       "    <tr>\n",
       "      <th>16</th>\n",
       "      <td>6127</td>\n",
       "      <td>Android Tablet &gt; Samsung Galaxy</td>\n",
       "    </tr>\n",
       "    <tr>\n",
       "      <th>17</th>\n",
       "      <td>6152</td>\n",
       "      <td>NaN</td>\n",
       "    </tr>\n",
       "    <tr>\n",
       "      <th>18</th>\n",
       "      <td>6272</td>\n",
       "      <td>OEM &gt; Ekran Kartları</td>\n",
       "    </tr>\n",
       "    <tr>\n",
       "      <th>19</th>\n",
       "      <td>6786</td>\n",
       "      <td>Cep Telefonları &gt; Apple</td>\n",
       "    </tr>\n",
       "    <tr>\n",
       "      <th>20</th>\n",
       "      <td>7331</td>\n",
       "      <td>KASA &gt; CORSAIR &gt; Graphite 780T Arctic White</td>\n",
       "    </tr>\n",
       "    <tr>\n",
       "      <th>21</th>\n",
       "      <td>7409</td>\n",
       "      <td>Dijital Yaşam &gt; Telefon &gt; Cep Telefonları &amp; Sm...</td>\n",
       "    </tr>\n",
       "    <tr>\n",
       "      <th>22</th>\n",
       "      <td>7412</td>\n",
       "      <td>Dijital Yaşam &gt; Telefon &gt; Cep Telefonları &amp; Sm...</td>\n",
       "    </tr>\n",
       "    <tr>\n",
       "      <th>23</th>\n",
       "      <td>7917</td>\n",
       "      <td>Telefon &gt; Akıllı Telefonlar</td>\n",
       "    </tr>\n",
       "    <tr>\n",
       "      <th>24</th>\n",
       "      <td>8745</td>\n",
       "      <td>Elektronik/TV &gt; Televizyonlar &gt; Led TV &gt; Samsung</td>\n",
       "    </tr>\n",
       "    <tr>\n",
       "      <th>25</th>\n",
       "      <td>8921</td>\n",
       "      <td>Bilgisayar &gt; Tablet &amp; Aksesuarları &gt; Tablet</td>\n",
       "    </tr>\n",
       "    <tr>\n",
       "      <th>26</th>\n",
       "      <td>8941</td>\n",
       "      <td>MP3 &gt; MP3 ÇALAR</td>\n",
       "    </tr>\n",
       "    <tr>\n",
       "      <th>27</th>\n",
       "      <td>8967</td>\n",
       "      <td>Bilgisayar &gt; Veri Depolama</td>\n",
       "    </tr>\n",
       "    <tr>\n",
       "      <th>28</th>\n",
       "      <td>9542</td>\n",
       "      <td>Uydu Alıcıları &gt; GOLDMASTER</td>\n",
       "    </tr>\n",
       "    <tr>\n",
       "      <th>29</th>\n",
       "      <td>9639</td>\n",
       "      <td>Ev / Bakım &gt; Sağlık ve Yaşam &gt; Ağız ve Diş Sağ...</td>\n",
       "    </tr>\n",
       "  </tbody>\n",
       "</table>\n",
       "</div>"
      ],
      "text/plain": [
       "       0                                                  1\n",
       "0    116                           TELEKOM > AKILLI TELEFON\n",
       "1    462             Bilgisayar > Taşınabilir Bilgisayarlar\n",
       "2   1286                            Cep Telefonları > APPLE\n",
       "3   1290                          Cep Telefonları > SAMSUNG\n",
       "4   1300           Ev Elektroniği > Televizyonlar > SAMSUNG\n",
       "5   1665  Bilgisayar > Bilgisayar Parçaları > Monitör > ...\n",
       "6   2021                                Cep Telefonu > Sony\n",
       "7   2485                             PC / Monitör > Monitör\n",
       "8   2495  Bilgisayar Ürünleri > Veri Depolama > Taşınabi...\n",
       "9   2503  Fotoğraf / Elektronik > Dijital Fotoğraf Makinesi\n",
       "10  2580                            Küçük Ev Aletleri > ütü\n",
       "11  2838                       Cep Telefonu > Sony Ericsson\n",
       "12  2842                   Cep Telefonu > Samsung Fiyatları\n",
       "13  4376                             Cep Telefonu > SAMSUNG\n",
       "14  4936                                  Küçük Ev Aletleri\n",
       "15  5226                                        Led Tv > LG\n",
       "16  6127                    Android Tablet > Samsung Galaxy\n",
       "17  6152                                                NaN\n",
       "18  6272                               OEM > Ekran Kartları\n",
       "19  6786                            Cep Telefonları > Apple\n",
       "20  7331        KASA > CORSAIR > Graphite 780T Arctic White\n",
       "21  7409  Dijital Yaşam > Telefon > Cep Telefonları & Sm...\n",
       "22  7412  Dijital Yaşam > Telefon > Cep Telefonları & Sm...\n",
       "23  7917                        Telefon > Akıllı Telefonlar\n",
       "24  8745   Elektronik/TV > Televizyonlar > Led TV > Samsung\n",
       "25  8921        Bilgisayar > Tablet & Aksesuarları > Tablet\n",
       "26  8941                                    MP3 > MP3 ÇALAR\n",
       "27  8967                         Bilgisayar > Veri Depolama\n",
       "28  9542                        Uydu Alıcıları > GOLDMASTER\n",
       "29  9639  Ev / Bakım > Sağlık ve Yaşam > Ağız ve Diş Sağ..."
      ]
     },
     "execution_count": 62,
     "metadata": {},
     "output_type": "execute_result"
    }
   ],
   "source": [
    "category.head(30)"
   ]
  },
  {
   "cell_type": "code",
   "execution_count": 63,
   "id": "63451d18",
   "metadata": {
    "scrolled": false
   },
   "outputs": [],
   "source": [
    "# splitting by greater than symbol to get individual columns for each category\n",
    "# note that each entry does not have equal numbers of subcategories so the first\n",
    "# two categories are most useful for classification\n",
    "df_category = category[1].str.split(\">\", n=3, expand=True)\n",
    "\n",
    "# renaming the column names for clarification\n",
    "df_category = df_category.rename(columns={0: \"cat1\", 1: \"cat2\", 2: \"cat3\", 3: \"cat4\"})"
   ]
  },
  {
   "cell_type": "markdown",
   "id": "4b0a1e9d",
   "metadata": {},
   "source": [
    "#### Handling the missing values"
   ]
  },
  {
   "cell_type": "code",
   "execution_count": 64,
   "id": "76dabb3a",
   "metadata": {
    "scrolled": true
   },
   "outputs": [
    {
     "name": "stdout",
     "output_type": "stream",
     "text": [
      "<class 'pandas.core.frame.DataFrame'>\n",
      "RangeIndex: 1782 entries, 0 to 1781\n",
      "Data columns (total 4 columns):\n",
      " #   Column  Non-Null Count  Dtype \n",
      "---  ------  --------------  ----- \n",
      " 0   cat1    1753 non-null   object\n",
      " 1   cat2    1676 non-null   object\n",
      " 2   cat3    1217 non-null   object\n",
      " 3   cat4    467 non-null    object\n",
      "dtypes: object(4)\n",
      "memory usage: 55.8+ KB\n",
      "None\n",
      "\n",
      "\n",
      "cat1      29\n",
      "cat2     106\n",
      "cat3     565\n",
      "cat4    1315\n",
      "dtype: int64\n"
     ]
    }
   ],
   "source": [
    "# missing values in the dataset\n",
    "print(df_category.info())\n",
    "print(\"\\n\")\n",
    "print(df_category.isnull().sum())"
   ]
  },
  {
   "cell_type": "code",
   "execution_count": 65,
   "id": "f6e93fdb",
   "metadata": {},
   "outputs": [],
   "source": [
    "# even though as seen above there are many missing values,\n",
    "# the first two categories are more important for classification\n",
    "# so only first categories have been cleared off null values\n",
    "df_category = df_category.dropna(subset=[\"cat1\",\"cat2\"])"
   ]
  },
  {
   "cell_type": "code",
   "execution_count": 66,
   "id": "7f73f7a2",
   "metadata": {
    "collapsed": true
   },
   "outputs": [
    {
     "name": "stdout",
     "output_type": "stream",
     "text": [
      "['TELEKOM ' 'Bilgisayar ' 'Cep Telefonları ' 'Ev Elektroniği '\n",
      " 'Cep Telefonu ' 'PC / Monitör ' 'Bilgisayar Ürünleri '\n",
      " 'Fotoğraf / Elektronik ' 'Küçük Ev Aletleri ' 'Led Tv ' 'Android Tablet '\n",
      " 'OEM ' 'KASA ' 'Dijital Yaşam ' 'Telefon ' 'Elektronik/TV ' 'MP3 '\n",
      " 'Uydu Alıcıları ' 'Ev / Bakım ' 'TV & Görüntü Sistemleri ' 'Monitör '\n",
      " 'Power Supply ' 'Taşınabilir Diskler ' 'Flash Bellek '\n",
      " 'Isıtma & Soğutma ' 'Foto & Kamera ' 'SES VE GÖRÜNTÜ ' 'Telefonlar '\n",
      " 'Ev Elektroniği & TV ' 'Oyun - Hobi ' 'Antenler / Kablolar '\n",
      " 'Müzik Çalar ' 'Bilgisayar Bileşenleri '\n",
      " 'Beyaz Eşya & Elektrikli Ev Aletleri ' 'Çevre Birimleri '\n",
      " 'Network Ürünleri ' 'Tv Aksesuar ' 'Hesap Makineleri '\n",
      " 'Slr Fotoğraf Makinesi ' 'Oyun Konsolları ' 'Bilg.Parçaları '\n",
      " 'Tüketici Elektroniği ' 'Ultrabook ' 'Yağlı Radyatörler ' 'Yazılım '\n",
      " 'OEM Ürünleri ' 'Hardiskler ' 'Bilgi Teknolojileri ' 'Televizyon '\n",
      " 'Monitörler ' 'Fotoğraf-Kamera ' 'Yazıcı '\n",
      " 'Elektronik / Tüketici Elektroniği ' 'Foto&Kamera ' 'Elektronik '\n",
      " 'Mobilya ' 'TABLET PC ' 'Ev Aletleri ' 'Aksesuar Ürünleri '\n",
      " 'Ses - Görüntü Ürünleri ' 'Dizüstü ' 'Baskı Çözümleri ' 'Oyun Dünyası '\n",
      " 'Ütüler ' 'Tüketim Ürünleri ' 'OEM & Çevre Birimleri '\n",
      " 'Tüketim Malzemeleri ' 'Ütü ' 'Spor&Outdoor '\n",
      " 'Aynı Gün Kargoya Verilenler ' 'Tablet Pc ' 'Isıtma Soğutma '\n",
      " 'Oyun & Oyun Konsolu ' 'Fotoğraf - Video ' 'NOTEBOOK BİLGİSAYAR '\n",
      " 'Çevre Birimler ' 'Dijital SLR Fotoğraf Makinesi ' 'BELLEK - RAM '\n",
      " 'Uydu Alıcı ' 'SSD (Solid State Drive) ' 'Network ' 'Fotoğraf & Kamera '\n",
      " 'BEYAZ EŞYA ' 'Spor Aletleri ' 'Sarf ' 'HARD DISK - SSD '\n",
      " 'Foto / Kamera ' 'ANAKART ' 'SES SİSTEMİ ' 'OVERCLOCK VE SOĞUTMA '\n",
      " 'NETWORK / AĞ ÜRÜNLERİ ' 'KLAVYE / MOUSE ' 'KASA - PSU ' 'EKRAN KARTI '\n",
      " 'CEP TELEFONU ' 'Telefon - İletişim ' 'Beyaz Eşya '\n",
      " 'Ağız Bakım Ürünleri ' 'Beyaz Eşya&Ev Aletleri ' 'Tablet Aksesuar '\n",
      " 'Piller ve Şarj Aletleri ' 'Kişisel Bakım & Sağlık ' 'Toner '\n",
      " 'Beyaz Eşya/Mutfak ' 'Sd Kartlar ' 'BİLGİSAYAR ' 'Ev Aletleri & Yaşam '\n",
      " 'Hobi & Oyun Konsolları ' 'Video Kamera ' 'Kulaklık '\n",
      " 'Klavye & Mouse Setleri ' 'Tv & Ses ' 'Hoparlör (speaker) '\n",
      " 'Fotoğraf Makinesi ve Kamera ' 'Mürekkep Kartuşları '\n",
      " 'Bilgisayar Kasası ' 'Soğutucu(Fan) ' 'İnternet - Ağ Ürünleri '\n",
      " 'Mürekkep Püskürtmeli Yazıcı ' 'Lazer Yazıcı ' 'Elektrikli Ev Aletleri '\n",
      " 'Notebook Aksesuarları ' 'Kitaplar ' 'Oyun & Hobi ' 'Tabletler '\n",
      " 'Wireless Adaptör ' 'Aksesuar ' 'Projeksiyon ' 'Oto Aks & Navigasyon '\n",
      " 'Veri Depolama ' 'Masaüstü Pc ' 'Masaüstü Telefonlar ' 'Oto Aksesuar '\n",
      " 'Fotoğraf Makinesi Aksesuarı ' 'Veri Depolama Yedekleme ' 'Radyatör '\n",
      " 'KİŞİSEL BAKIM ' 'Spor & Outdoor ' 'Çoklu Depolama Ünitesi (NAS) '\n",
      " 'Klavye ve Fare ' 'Oyun ve Oyun Konsolu ' 'Ev Teknolojileri '\n",
      " 'UPS Güç Kaynakları ' 'Mouse ' 'Espresso & Cappuccino Mak. '\n",
      " 'Ofis & Kırtasiye ' 'Dijital Fotoğraf Makinesi ' 'Ekran Kartları '\n",
      " 'Modem ' 'Kişisel Bakım ' 'Meyve Sıkıcı ' 'Oyun / Oyun Konsolları '\n",
      " 'Mutfak ' 'Oto Aksesuarları ' 'Elektronik ve Televizyon ' 'Foto/Kamera '\n",
      " 'Meyve Sıkacağı ' 'Foto Mak. & Kamera ' 'Aksesuar & Sarf Malz. '\n",
      " 'Hobi / Oyun / Müzik ' 'Ev Aletleri & Elektronik '\n",
      " 'Müzik Seti - Mp3 - Radyo ' 'Aksesuarlar ' 'PC / Play Station Oyun '\n",
      " 'Dizüstü Bilgisayar ' 'Yazılım ve Hizmetler ' 'Diğer Sağlık ürünleri '\n",
      " 'Bilgisayarlar ' 'Yazıcılar ' 'Elektronik & TV ' 'Oyuncu Ürünleri '\n",
      " 'Hobi / Oyun Konsolu ' 'Ağ Ürünleri ' 'Mac '\n",
      " 'Cep Telefonu ve Aksesuarları ' 'Outlet ' 'Aile Sağlığı ve Bakımı '\n",
      " 'Araba ve Motor ' 'Oto Ses Görüntü ' 'Yazılım Ürünleri '\n",
      " 'Kişisel Bilgisayarlar ' 'Sarf Malzemeleri ' 'İnkjet Çok Fonk. '\n",
      " 'Isıtma ve Sogutma ' 'Baskı Ürünleri ' 'iPod ' 'iPhone ' 'Kablolar '\n",
      " 'Kırtasiye/Ofis ' 'Ev Tekstili ' 'Oto Ses ve Görüntü Sistemleri '\n",
      " 'Çay Ve Kahve Makinesi ' 'Elektronik Televizyon '\n",
      " 'Oyun ve Oyun Konsolları ' 'Fotoğraf Makinesi ve Lens '\n",
      " 'Ev ve Mutfak Cihazları ' 'Bilgisayar Tablet Yazıcı '\n",
      " 'Toner Kartuş Şerit ']\n",
      "\n",
      "\n",
      "The length of category names is 198\n"
     ]
    }
   ],
   "source": [
    "# there are 195 unique category names as of now, too much.\n",
    "cat_names = df_category[\"cat1\"].unique()\n",
    "print(cat_names)\n",
    "print(\"\\n\")\n",
    "print(f\"The length of category names is {len(cat_names)}\") "
   ]
  },
  {
   "cell_type": "markdown",
   "id": "0160a23f",
   "metadata": {},
   "source": [
    "#### Cleaning string values"
   ]
  },
  {
   "cell_type": "code",
   "execution_count": 67,
   "id": "da940ee9",
   "metadata": {
    "scrolled": false
   },
   "outputs": [
    {
     "data": {
      "text/html": [
       "<div>\n",
       "<style scoped>\n",
       "    .dataframe tbody tr th:only-of-type {\n",
       "        vertical-align: middle;\n",
       "    }\n",
       "\n",
       "    .dataframe tbody tr th {\n",
       "        vertical-align: top;\n",
       "    }\n",
       "\n",
       "    .dataframe thead th {\n",
       "        text-align: right;\n",
       "    }\n",
       "</style>\n",
       "<table border=\"1\" class=\"dataframe\">\n",
       "  <thead>\n",
       "    <tr style=\"text-align: right;\">\n",
       "      <th></th>\n",
       "      <th>cat1</th>\n",
       "      <th>cat2</th>\n",
       "      <th>cat3</th>\n",
       "      <th>cat4</th>\n",
       "    </tr>\n",
       "  </thead>\n",
       "  <tbody>\n",
       "    <tr>\n",
       "      <th>0</th>\n",
       "      <td>telekom</td>\n",
       "      <td>akilli telefon</td>\n",
       "      <td>None</td>\n",
       "      <td>None</td>\n",
       "    </tr>\n",
       "    <tr>\n",
       "      <th>1</th>\n",
       "      <td>bilgisayar</td>\n",
       "      <td>taşınabilir bilgisayarlar</td>\n",
       "      <td>None</td>\n",
       "      <td>None</td>\n",
       "    </tr>\n",
       "    <tr>\n",
       "      <th>2</th>\n",
       "      <td>cep telefonları</td>\n",
       "      <td>apple</td>\n",
       "      <td>None</td>\n",
       "      <td>None</td>\n",
       "    </tr>\n",
       "    <tr>\n",
       "      <th>3</th>\n",
       "      <td>cep telefonları</td>\n",
       "      <td>samsung</td>\n",
       "      <td>None</td>\n",
       "      <td>None</td>\n",
       "    </tr>\n",
       "    <tr>\n",
       "      <th>4</th>\n",
       "      <td>ev elektroniği</td>\n",
       "      <td>televizyonlar</td>\n",
       "      <td>samsung</td>\n",
       "      <td>None</td>\n",
       "    </tr>\n",
       "  </tbody>\n",
       "</table>\n",
       "</div>"
      ],
      "text/plain": [
       "               cat1                        cat2      cat3  cat4\n",
       "0          telekom               akilli telefon      None  None\n",
       "1       bilgisayar    taşınabilir bilgisayarlar      None  None\n",
       "2  cep telefonları                        apple      None  None\n",
       "3  cep telefonları                      samsung      None  None\n",
       "4   ev elektroniği               televizyonlar    samsung  None"
      ]
     },
     "execution_count": 67,
     "metadata": {},
     "output_type": "execute_result"
    }
   ],
   "source": [
    "# lowercasing the category strings for machine easy-read and standardization purposes\n",
    "for col in df_category.columns:\n",
    "    df_category[col] = df_category[col].str.lower()\n",
    "    \n",
    "df_category.head()"
   ]
  },
  {
   "cell_type": "code",
   "execution_count": 68,
   "id": "e2e2be0d",
   "metadata": {
    "scrolled": true
   },
   "outputs": [
    {
     "data": {
      "text/plain": [
       "0                        telekom \n",
       "1                     bilgisayar \n",
       "2                cep telefonları \n",
       "3                cep telefonları \n",
       "4                 ev elektroniği \n",
       "                  ...            \n",
       "1757    bilgisayar tablet yazıcı \n",
       "1758          toner kartuş şerit \n",
       "1759          toner kartuş şerit \n",
       "1760          toner kartuş şerit \n",
       "1761          toner kartuş şerit \n",
       "Name: cat1, Length: 1676, dtype: object"
      ]
     },
     "execution_count": 68,
     "metadata": {},
     "output_type": "execute_result"
    }
   ],
   "source": [
    "# similarly, removing punctuation chars for ease\n",
    "punctuation = string.punctuation\n",
    "\n",
    "def remove_punct(text):\n",
    "    return text.translate(str.maketrans('', '', punctuation))\n",
    "\n",
    "df_category[\"cat1\"] = df_category[\"cat1\"].apply(lambda text: remove_punct(text))\n",
    "\n",
    "df_category[\"cat1\"]"
   ]
  },
  {
   "cell_type": "markdown",
   "id": "b1d10dac",
   "metadata": {},
   "source": [
    "### Since there are way too many categories for classification, it should be downsized to a manageable number of categories.\n",
    "#### Below, I will only consider categories with >= 3 values for pragmatic reasons"
   ]
  },
  {
   "cell_type": "code",
   "execution_count": 69,
   "id": "56748668",
   "metadata": {
    "scrolled": true
   },
   "outputs": [
    {
     "data": {
      "text/html": [
       "<div>\n",
       "<style scoped>\n",
       "    .dataframe tbody tr th:only-of-type {\n",
       "        vertical-align: middle;\n",
       "    }\n",
       "\n",
       "    .dataframe tbody tr th {\n",
       "        vertical-align: top;\n",
       "    }\n",
       "\n",
       "    .dataframe thead th {\n",
       "        text-align: right;\n",
       "    }\n",
       "</style>\n",
       "<table border=\"1\" class=\"dataframe\">\n",
       "  <thead>\n",
       "    <tr style=\"text-align: right;\">\n",
       "      <th></th>\n",
       "      <th>cat1</th>\n",
       "      <th>cat2</th>\n",
       "      <th>cat3</th>\n",
       "      <th>cat4</th>\n",
       "    </tr>\n",
       "  </thead>\n",
       "  <tbody>\n",
       "    <tr>\n",
       "      <th>0</th>\n",
       "      <td>telekom</td>\n",
       "      <td>akilli telefon</td>\n",
       "      <td>None</td>\n",
       "      <td>None</td>\n",
       "    </tr>\n",
       "    <tr>\n",
       "      <th>1</th>\n",
       "      <td>bilgisayar</td>\n",
       "      <td>taşınabilir bilgisayarlar</td>\n",
       "      <td>None</td>\n",
       "      <td>None</td>\n",
       "    </tr>\n",
       "    <tr>\n",
       "      <th>2</th>\n",
       "      <td>cep telefonları</td>\n",
       "      <td>apple</td>\n",
       "      <td>None</td>\n",
       "      <td>None</td>\n",
       "    </tr>\n",
       "    <tr>\n",
       "      <th>3</th>\n",
       "      <td>cep telefonları</td>\n",
       "      <td>samsung</td>\n",
       "      <td>None</td>\n",
       "      <td>None</td>\n",
       "    </tr>\n",
       "    <tr>\n",
       "      <th>4</th>\n",
       "      <td>ev elektroniği</td>\n",
       "      <td>televizyonlar</td>\n",
       "      <td>samsung</td>\n",
       "      <td>None</td>\n",
       "    </tr>\n",
       "    <tr>\n",
       "      <th>...</th>\n",
       "      <td>...</td>\n",
       "      <td>...</td>\n",
       "      <td>...</td>\n",
       "      <td>...</td>\n",
       "    </tr>\n",
       "    <tr>\n",
       "      <th>1757</th>\n",
       "      <td>bilgisayar tablet yazıcı</td>\n",
       "      <td>bilgisayar bileşenleri</td>\n",
       "      <td>power supply</td>\n",
       "      <td>None</td>\n",
       "    </tr>\n",
       "    <tr>\n",
       "      <th>1758</th>\n",
       "      <td>toner kartuş şerit</td>\n",
       "      <td>kartuş</td>\n",
       "      <td>None</td>\n",
       "      <td>None</td>\n",
       "    </tr>\n",
       "    <tr>\n",
       "      <th>1759</th>\n",
       "      <td>toner kartuş şerit</td>\n",
       "      <td>kartuş</td>\n",
       "      <td>None</td>\n",
       "      <td>None</td>\n",
       "    </tr>\n",
       "    <tr>\n",
       "      <th>1760</th>\n",
       "      <td>toner kartuş şerit</td>\n",
       "      <td>kartuş</td>\n",
       "      <td>None</td>\n",
       "      <td>None</td>\n",
       "    </tr>\n",
       "    <tr>\n",
       "      <th>1761</th>\n",
       "      <td>toner kartuş şerit</td>\n",
       "      <td>kartuş</td>\n",
       "      <td>None</td>\n",
       "      <td>None</td>\n",
       "    </tr>\n",
       "  </tbody>\n",
       "</table>\n",
       "<p>1540 rows × 4 columns</p>\n",
       "</div>"
      ],
      "text/plain": [
       "                           cat1                        cat2           cat3  \\\n",
       "0                      telekom               akilli telefon           None   \n",
       "1                   bilgisayar    taşınabilir bilgisayarlar           None   \n",
       "2              cep telefonları                        apple           None   \n",
       "3              cep telefonları                      samsung           None   \n",
       "4               ev elektroniği               televizyonlar         samsung   \n",
       "...                         ...                         ...            ...   \n",
       "1757  bilgisayar tablet yazıcı      bilgisayar bileşenleri    power supply   \n",
       "1758        toner kartuş şerit                       kartuş           None   \n",
       "1759        toner kartuş şerit                       kartuş           None   \n",
       "1760        toner kartuş şerit                       kartuş           None   \n",
       "1761        toner kartuş şerit                       kartuş           None   \n",
       "\n",
       "      cat4  \n",
       "0     None  \n",
       "1     None  \n",
       "2     None  \n",
       "3     None  \n",
       "4     None  \n",
       "...    ...  \n",
       "1757  None  \n",
       "1758  None  \n",
       "1759  None  \n",
       "1760  None  \n",
       "1761  None  \n",
       "\n",
       "[1540 rows x 4 columns]"
      ]
     },
     "execution_count": 69,
     "metadata": {},
     "output_type": "execute_result"
    }
   ],
   "source": [
    "cat_value_count = df_category['cat1'].value_counts()\n",
    "\n",
    "cat_value = cat_value_count[cat_value_count >= 3]\n",
    "\n",
    "# categories with >= 3 occurences are included in the new dataframe\n",
    "df_cat = df_category[df_category['cat1'].isin(cat_value.index)]\n",
    "\n",
    "df_cat"
   ]
  },
  {
   "cell_type": "code",
   "execution_count": 70,
   "id": "029c2623",
   "metadata": {
    "scrolled": true
   },
   "outputs": [
    {
     "data": {
      "text/plain": [
       "cat1\n",
       "bilgisayar                      462\n",
       "bilgisayar ürünleri              71\n",
       "bilgisayar bileşenleri           70\n",
       "aksesuar ürünleri                66\n",
       "telefon                          64\n",
       "                               ... \n",
       "ses  görüntü ürünleri             3\n",
       "fotoğraf makinesi ve kamera       3\n",
       "ev elektroniği  tv                3\n",
       "beyaz eşya                        3\n",
       "monitörler                        3\n",
       "Name: count, Length: 88, dtype: int64"
      ]
     },
     "execution_count": 70,
     "metadata": {},
     "output_type": "execute_result"
    }
   ],
   "source": [
    "# there are 88 categories now (they are raw, duplicates, etc.)\n",
    "cat_value"
   ]
  },
  {
   "cell_type": "code",
   "execution_count": 71,
   "id": "273ebfe3",
   "metadata": {
    "collapsed": true
   },
   "outputs": [
    {
     "data": {
      "text/plain": [
       "array(['telekom ', 'bilgisayar ', 'cep telefonları ', 'ev elektroniği ',\n",
       "       'cep telefonu ', 'pc  monitör ', 'bilgisayar ürünleri ',\n",
       "       'fotoğraf  elektronik ', 'küçük ev aletleri ', 'led tv ', 'oem ',\n",
       "       'dijital yaşam ', 'telefon ', 'elektroniktv ', 'mp3 ',\n",
       "       'ev  bakım ', 'tv  görüntü sistemleri ', 'monitör ',\n",
       "       'isıtma  soğutma ', 'foto  kamera ', 'ses ve görüntü ',\n",
       "       'telefonlar ', 'ev elektroniği  tv ', 'oyun  hobi ',\n",
       "       'antenler  kablolar ', 'bilgisayar bileşenleri ',\n",
       "       'çevre birimleri ', 'network ürünleri ', 'tv aksesuar ',\n",
       "       'bilgparçaları ', 'tüketici elektroniği ', 'yazılım ',\n",
       "       'oem ürünleri ', 'bilgi teknolojileri ', 'televizyon ',\n",
       "       'monitörler ', 'yazıcı ', 'fotokamera ', 'elektronik ',\n",
       "       'aksesuar ürünleri ', 'ses  görüntü ürünleri ', 'dizüstü ',\n",
       "       'oyun dünyası ', 'tüketim ürünleri ', 'oem  çevre birimleri ',\n",
       "       'tüketim malzemeleri ', 'oyun  oyun konsolu ', 'fotoğraf  video ',\n",
       "       'çevre birimler ', 'fotoğraf  kamera ', 'beyaz eşya ', 'sarf ',\n",
       "       'telefon  i̇letişim ', 'beyaz eşyaev aletleri ',\n",
       "       'kişisel bakım  sağlık ', 'bi̇lgi̇sayar ', 'ev aletleri  yaşam ',\n",
       "       'hobi  oyun konsolları ', 'tv  ses ',\n",
       "       'fotoğraf makinesi ve kamera ', 'mürekkep kartuşları ',\n",
       "       'soğutucufan ', 'i̇nternet  ağ ürünleri ', 'lazer yazıcı ',\n",
       "       'elektrikli ev aletleri ', 'aksesuar ', 'oto aks  navigasyon ',\n",
       "       'veri depolama ', 'oyun ve oyun konsolu ', 'mouse ',\n",
       "       'elektronik ve televizyon ', 'foto mak  kamera ',\n",
       "       'aksesuar  sarf malz ', 'hobi  oyun  müzik ',\n",
       "       'ev aletleri  elektronik ', 'bilgisayarlar ', 'yazıcılar ',\n",
       "       'elektronik  tv ', 'hobi  oyun konsolu ', 'ağ ürünleri ',\n",
       "       'cep telefonu ve aksesuarları ', 'oto ses görüntü ',\n",
       "       'kişisel bilgisayarlar ', 'baskı ürünleri ',\n",
       "       'elektronik televizyon ', 'oyun ve oyun konsolları ',\n",
       "       'bilgisayar tablet yazıcı ', 'toner kartuş şerit '], dtype=object)"
      ]
     },
     "execution_count": 71,
     "metadata": {},
     "output_type": "execute_result"
    }
   ],
   "source": [
    "df_cat[\"cat1\"].unique()"
   ]
  },
  {
   "cell_type": "markdown",
   "id": "34624997",
   "metadata": {},
   "source": [
    "#### There are many categories, even with the restrictions, so I have merged some categories and standardize naming for similar/same category of products. So, I have created a dictionary for category names and grouped them to lower the category amount. Then, I have replaced the category names for consistency."
   ]
  },
  {
   "cell_type": "code",
   "execution_count": 72,
   "id": "895f6ff4",
   "metadata": {},
   "outputs": [
    {
     "name": "stderr",
     "output_type": "stream",
     "text": [
      "/var/folders/c2/jf3vrykn32d76fpp0jft_ndw0000gn/T/ipykernel_7934/1977868599.py:95: SettingWithCopyWarning: \n",
      "A value is trying to be set on a copy of a slice from a DataFrame.\n",
      "Try using .loc[row_indexer,col_indexer] = value instead\n",
      "\n",
      "See the caveats in the documentation: https://pandas.pydata.org/pandas-docs/stable/user_guide/indexing.html#returning-a-view-versus-a-copy\n",
      "  df_cat[\"cat0\"] = df_cat[\"cat1\"].replace(cat_dict)\n"
     ]
    }
   ],
   "source": [
    "cat_dict = {\n",
    "    \"tv ses \": \"televizyon\",\n",
    "    \"oem \": \"bilgisayar bileşenleri\",\n",
    "    \"oem  çevre birimleri \": \"bilgisayar bileşenleri\",\n",
    "    \"oem ürünleri \": \"bilgisayar bileşenleri\",\n",
    "    \"mouse \":\"bilgisayar bileşenleri\",\n",
    "    \"bilgparçaları \":\"bilgisayar bileşenleri\", \n",
    "    \"çevre birimleri \": \"bilgisayar bileşenleri\",\n",
    "    \"bilgisayar bileşenleri \": \"bilgisayar bileşenleri\",\n",
    "    \"soğutucufan \":\"bilgisayar bileşenleri\",\n",
    "    \"i̇nternet  ağ ürünleri \": \"bilgi teknolojileri\",\n",
    "    \"bilgisayar ürünleri \": \"bilgisayar\",\n",
    "    \"dizüstü \": \"bilgisayar\",\n",
    "    \"bi̇lgi̇sayar \": \"bilgisayar\",\n",
    "    \"bilgisayar \": \"bilgisayar\",\n",
    "    \"bilgisayarlar \": \"bilgisayar\",\n",
    "    \"kişisel bilgisayarlar \": \"bilgisayar\",\n",
    "    \"oto aks  navigasyon \": \"otomobil\",\n",
    "    \"oto ses görüntü \": \"otomobil\",\n",
    "    \"cep telefonu \": \"telefon\",\n",
    "    \"cep telefonları \": \"telefon\",\n",
    "    \"cep telefonu ve aksesuarları \": \"telefon\",\n",
    "    \"telefonlar \": \"telefon\",\n",
    "    \"telefon  i̇letişim \": \"telefon\",\n",
    "    \"telefon \": \"telefon\",\n",
    "    \"telekom \": \"telefon\",\n",
    "    \"fotoğraf  elektronik \": \"fotoğraf\",\n",
    "    \"foto  kamera \": \"fotoğraf\",\n",
    "    \"fotokamera \": \"fotoğraf\",\n",
    "    \"fotoğraf  video \": \"fotoğraf\",\n",
    "    \"fotoğraf makinesi ve kamera \": \"fotoğraf\",\n",
    "    \"fotoğraf  kamera \": \"fotoğraf\",\n",
    "    \"foto mak  kamera \": \"fotoğraf\",\n",
    "    \"ev aletleri  yaşam \": \"ev elektronik\",\n",
    "    \"ev aletleri  elektronik \": \"ev elektronik\",\n",
    "    \"ev elektroniği \": \"ev elektronik\",\n",
    "    \"küçük ev aletleri \": \"ev elektronik\",\n",
    "    \"tüketici elektroniği \": \"ev elektronik\",\n",
    "    \"beyaz eşyaev aletleri \": \"ev elektronik\",\n",
    "    \"beyaz eşya \": \"ev elektronik\",\n",
    "    \"elektrikli ev aletleri \": \"ev elektronik\",\n",
    "    \"elektronik \": \"elektronik\",\n",
    "    \"dijital yaşam \": \"elektronik\",\n",
    "    \"antenler  kablolar \": \"elektronik\",\n",
    "    \"isıtma  soğutma \": \"ev elektronik\",\n",
    "    \"elektronik ve televizyon \": \"televizyon\",\n",
    "    \"elektronik  tv \": \"televizyon\",\n",
    "    \"led tv \": \"televizyon\",\n",
    "    \"ev elektroniği  tv \": \"televizyon\",\n",
    "    \"televizyon \": \"televizyon\",\n",
    "    \"elektronik televizyon \": \"televizyon\",\n",
    "    \"elektroniktv \": \"televizyon\",\n",
    "    \"tv  görüntü sistemleri \": \"televizyon\",\n",
    "    \"tüketim ürünleri \": \"tüketim ürünleri\",\n",
    "    \"tüketim malzemeleri \": \"tüketim ürünleri\",\n",
    "    \"ev  bakım \": \"tüketim ürünleri\",\n",
    "    \"kişisel bakım  sağlık \": \"kişisel bakım\",\n",
    "    \"yazıcı \": \"baskı\",\n",
    "    \"yazıcılar \": \"baskı\",\n",
    "    \"lazer yazıcı \": \"baskı\",\n",
    "    \"bilgisayar tablet yazıcı \": \"baskı\",\n",
    "    \"toner kartuş şerit \": \"baskı\",\n",
    "    \"baskı ürünleri \": \"baskı\",\n",
    "    \"aksesuar \": \"aksesuar\",\n",
    "    \"sarf \": \"aksesuar\",\n",
    "    \"aksesuar  sarf malz \": \"aksesuar\",\n",
    "    \"tv aksesuar \": \"aksesuar\",\n",
    "    \"aksesuar ürünleri \": \"aksesuar\",\n",
    "    \"çevre birimler \": \"çevre birimleri\",\n",
    "    \"mürekkep kartuşları \": \"baskı\",\n",
    "    \"oyun ve oyun konsolları \": \"oyun\",\n",
    "    \"oyun  hobi \": \"oyun\",\n",
    "    \"oyun dünyası \": \"oyun\",\n",
    "    \"oyun  oyun konsolu \": \"oyun\",\n",
    "    \"hobi  oyun konsolu \": \"oyun\",\n",
    "    \"hobi  oyun konsolları \": \"oyun\",\n",
    "    \"hobi  oyun  müzik \": \"oyun\",\n",
    "    \"oyun ve oyun konsolu \": \"oyun\",\n",
    "    \"yazılım \": \"yazılım\",\n",
    "    \"bilgi teknolojileri \" : \"bilgi teknolojileri\",\n",
    "    \"network ürünleri \": \"bilgi teknolojileri\",\n",
    "    \"ağ ürünleri \": \"bilgi teknolojileri\",\n",
    "    \"veri depolama \": \"bilgi teknolojileri\", \n",
    "    \"ağ ürünleri \": \"bilgi teknolojileri\",\n",
    "    \"i̇nternet  ağ ürünleri \": \"bilgi teknolojileri\",\n",
    "    \"tv  ses \": \"ses ve görüntü\",\n",
    "    \"ses ve görüntü \": \"ses ve görüntü\",\n",
    "    \"mp3 \": \"ses ve görüntü\",\n",
    "    \"ses  görüntü ürünleri \": \"ses ve görüntü\",\n",
    "    \"monitör \": \"ses ve görüntü\",\n",
    "    \"monitörler \": \"ses ve görüntü\",\n",
    "    \"pc  monitör \": \"ses ve görüntü\",\n",
    "}\n",
    "\n",
    "df_cat[\"cat0\"] = df_cat[\"cat1\"].replace(cat_dict)"
   ]
  },
  {
   "cell_type": "markdown",
   "id": "e896c74f",
   "metadata": {},
   "source": [
    "#### Below is the new category names, counts and length."
   ]
  },
  {
   "cell_type": "code",
   "execution_count": 73,
   "id": "2a9c1493",
   "metadata": {
    "scrolled": true
   },
   "outputs": [
    {
     "name": "stdout",
     "output_type": "stream",
     "text": [
      "The new category names and values are: \n",
      " cat0\n",
      "bilgisayar                586\n",
      "bilgisayar bileşenleri    187\n",
      "ev elektronik             125\n",
      "telefon                   106\n",
      "aksesuar                  104\n",
      "baskı                      79\n",
      "fotoğraf                   63\n",
      "oyun                       53\n",
      "ses ve görüntü             44\n",
      "tüketim ürünleri           42\n",
      "televizyon                 39\n",
      "elektronik                 36\n",
      "bilgi teknolojileri        34\n",
      "yazılım                    20\n",
      "çevre birimleri            10\n",
      "otomobil                    8\n",
      "kişisel bakım               4\n",
      "Name: count, dtype: int64\n",
      "\n",
      "\n",
      "New category names' length is 17\n",
      "\n",
      "\n",
      "New category value length is 1540\n"
     ]
    }
   ],
   "source": [
    "print(\"The new category names and values are:\", \"\\n\" ,df_cat[\"cat0\"].value_counts())\n",
    "print(\"\\n\")\n",
    "print(\"New category names' length is\",len(df_cat[\"cat0\"].unique()))\n",
    "print(\"\\n\")\n",
    "print(\"New category value length is\", df_cat[\"cat0\"].value_counts().sum())"
   ]
  },
  {
   "cell_type": "markdown",
   "id": "77007b60",
   "metadata": {},
   "source": [
    "### Now, there are only 17 categories for classification. They are plotted as below."
   ]
  },
  {
   "cell_type": "code",
   "execution_count": 93,
   "id": "7205894b",
   "metadata": {
    "scrolled": false
   },
   "outputs": [
    {
     "data": {
      "text/plain": [
       "Text(0.5, 1.0, 'Category of products and their counts')"
      ]
     },
     "execution_count": 93,
     "metadata": {},
     "output_type": "execute_result"
    },
    {
     "data": {
      "image/png": "[encoded data removed]",
      "text/plain": [
       "<Figure size 1000x800 with 1 Axes>"
      ]
     },
     "metadata": {},
     "output_type": "display_data"
    }
   ],
   "source": [
    "fig = plt.figure(figsize=(10,8))\n",
    "fig = sns.countplot(x= df_cat[\"cat0\"], order=sorted(df_cat[\"cat0\"].unique()))\n",
    "fig.set_ylabel(\"Count of products\") \n",
    "fig.set_xlabel(\"Product categories\")\n",
    "plt.xticks(rotation = 70)\n",
    "plt.title(\"Category of products and their counts\", size = 18)"
   ]
  },
  {
   "cell_type": "markdown",
   "id": "bcbb1bd3",
   "metadata": {},
   "source": [
    "### 1.2. Explanation dataset exploration and preprocessing"
   ]
  },
  {
   "cell_type": "code",
   "execution_count": 29,
   "id": "ae9eb166",
   "metadata": {
    "scrolled": true
   },
   "outputs": [
    {
     "data": {
      "text/html": [
       "<div>\n",
       "<style scoped>\n",
       "    .dataframe tbody tr th:only-of-type {\n",
       "        vertical-align: middle;\n",
       "    }\n",
       "\n",
       "    .dataframe tbody tr th {\n",
       "        vertical-align: top;\n",
       "    }\n",
       "\n",
       "    .dataframe thead th {\n",
       "        text-align: right;\n",
       "    }\n",
       "</style>\n",
       "<table border=\"1\" class=\"dataframe\">\n",
       "  <thead>\n",
       "    <tr style=\"text-align: right;\">\n",
       "      <th></th>\n",
       "      <th>0</th>\n",
       "      <th>1</th>\n",
       "    </tr>\n",
       "  </thead>\n",
       "  <tbody>\n",
       "    <tr>\n",
       "      <th>0</th>\n",
       "      <td>116</td>\n",
       "      <td>NaN</td>\n",
       "    </tr>\n",
       "    <tr>\n",
       "      <th>1</th>\n",
       "      <td>462</td>\n",
       "      <td>HP Pavilion 11-n000nt Pentium N3540 4GB 750GB ...</td>\n",
       "    </tr>\n",
       "    <tr>\n",
       "      <th>2</th>\n",
       "      <td>1300</td>\n",
       "      <td>ÖZELLİKLER Ekran Ekran Boyutu 48\" Ekran Boyutu...</td>\n",
       "    </tr>\n",
       "    <tr>\n",
       "      <th>3</th>\n",
       "      <td>1665</td>\n",
       "      <td>Ürün Kodu : 40061255166 Genel Özellikler Panel...</td>\n",
       "    </tr>\n",
       "    <tr>\n",
       "      <th>4</th>\n",
       "      <td>2021</td>\n",
       "      <td>NaN</td>\n",
       "    </tr>\n",
       "    <tr>\n",
       "      <th>5</th>\n",
       "      <td>2485</td>\n",
       "      <td>Özellikler SmartControl Lite ile kolay ekran p...</td>\n",
       "    </tr>\n",
       "    <tr>\n",
       "      <th>6</th>\n",
       "      <td>2495</td>\n",
       "      <td>Genel Özellikler : Seagate Backup Plus ile dij...</td>\n",
       "    </tr>\n",
       "    <tr>\n",
       "      <th>7</th>\n",
       "      <td>2580</td>\n",
       "      <td>Ürün Hakkında Tefal GV8930 3 Ayarlı Pro Expres...</td>\n",
       "    </tr>\n",
       "    <tr>\n",
       "      <th>8</th>\n",
       "      <td>2838</td>\n",
       "      <td>Sony Xperia Z2 Cep Telefonu Özellikleri Genel ...</td>\n",
       "    </tr>\n",
       "    <tr>\n",
       "      <th>9</th>\n",
       "      <td>2842</td>\n",
       "      <td>Samsung G850 Fiyatı Özellikleri Ürün Özellikle...</td>\n",
       "    </tr>\n",
       "  </tbody>\n",
       "</table>\n",
       "</div>"
      ],
      "text/plain": [
       "      0                                                  1\n",
       "0   116                                                NaN\n",
       "1   462  HP Pavilion 11-n000nt Pentium N3540 4GB 750GB ...\n",
       "2  1300  ÖZELLİKLER Ekran Ekran Boyutu 48\" Ekran Boyutu...\n",
       "3  1665  Ürün Kodu : 40061255166 Genel Özellikler Panel...\n",
       "4  2021                                                NaN\n",
       "5  2485  Özellikler SmartControl Lite ile kolay ekran p...\n",
       "6  2495  Genel Özellikler : Seagate Backup Plus ile dij...\n",
       "7  2580  Ürün Hakkında Tefal GV8930 3 Ayarlı Pro Expres...\n",
       "8  2838  Sony Xperia Z2 Cep Telefonu Özellikleri Genel ...\n",
       "9  2842  Samsung G850 Fiyatı Özellikleri Ürün Özellikle..."
      ]
     },
     "execution_count": 29,
     "metadata": {},
     "output_type": "execute_result"
    }
   ],
   "source": [
    "explanation.head(10)"
   ]
  },
  {
   "cell_type": "code",
   "execution_count": null,
   "id": "4473705f",
   "metadata": {
    "scrolled": false
   },
   "outputs": [],
   "source": [
    "# renaming the columns for convention\n",
    "df_explanation = explanation.rename(columns={0: \"id\", 1: \"text\"})\n",
    "df_explanation.head(10)"
   ]
  },
  {
   "cell_type": "markdown",
   "id": "b5db8aa2",
   "metadata": {},
   "source": [
    "#### Handling missing values"
   ]
  },
  {
   "cell_type": "code",
   "execution_count": 31,
   "id": "c093f846",
   "metadata": {
    "scrolled": true
   },
   "outputs": [
    {
     "name": "stdout",
     "output_type": "stream",
     "text": [
      "id        0\n",
      "text    318\n",
      "dtype: int64\n"
     ]
    }
   ],
   "source": [
    "# there are 318 null values in explanation text column so we need to drop them \n",
    "print(df_explanation.isnull().sum()) "
   ]
  },
  {
   "cell_type": "code",
   "execution_count": 32,
   "id": "399dba00",
   "metadata": {},
   "outputs": [
    {
     "name": "stdout",
     "output_type": "stream",
     "text": [
      "id      0\n",
      "text    0\n",
      "dtype: int64\n"
     ]
    }
   ],
   "source": [
    "# now there is no null value left after dropping\n",
    "df_explanation = df_explanation.dropna()\n",
    "print(df_explanation.isnull().sum())"
   ]
  },
  {
   "cell_type": "markdown",
   "id": "8484e60e",
   "metadata": {},
   "source": [
    "#### Some preprocessing to ensure better data: lowercasing, removing punctuation, stop words, short words, and digits."
   ]
  },
  {
   "cell_type": "code",
   "execution_count": 33,
   "id": "9cfcc748",
   "metadata": {
    "scrolled": true
   },
   "outputs": [
    {
     "data": {
      "text/html": [
       "<div>\n",
       "<style scoped>\n",
       "    .dataframe tbody tr th:only-of-type {\n",
       "        vertical-align: middle;\n",
       "    }\n",
       "\n",
       "    .dataframe tbody tr th {\n",
       "        vertical-align: top;\n",
       "    }\n",
       "\n",
       "    .dataframe thead th {\n",
       "        text-align: right;\n",
       "    }\n",
       "</style>\n",
       "<table border=\"1\" class=\"dataframe\">\n",
       "  <thead>\n",
       "    <tr style=\"text-align: right;\">\n",
       "      <th></th>\n",
       "      <th>id</th>\n",
       "      <th>text</th>\n",
       "    </tr>\n",
       "  </thead>\n",
       "  <tbody>\n",
       "    <tr>\n",
       "      <th>1</th>\n",
       "      <td>462</td>\n",
       "      <td>pavilion nnt pentium n gb gb  dokunmatik win k...</td>\n",
       "    </tr>\n",
       "    <tr>\n",
       "      <th>2</th>\n",
       "      <td>1300</td>\n",
       "      <td>özelli̇kler ekran ekran boyutu ekran boyutu cm...</td>\n",
       "    </tr>\n",
       "    <tr>\n",
       "      <th>3</th>\n",
       "      <td>1665</td>\n",
       "      <td>ürün kodu  genel özellikler panel tipi led ekr...</td>\n",
       "    </tr>\n",
       "    <tr>\n",
       "      <th>5</th>\n",
       "      <td>2485</td>\n",
       "      <td>özellikler smartcontrol lite ile kolay ekran p...</td>\n",
       "    </tr>\n",
       "    <tr>\n",
       "      <th>6</th>\n",
       "      <td>2495</td>\n",
       "      <td>genel özellikler seagate backup plus ile dijit...</td>\n",
       "    </tr>\n",
       "    <tr>\n",
       "      <th>7</th>\n",
       "      <td>2580</td>\n",
       "      <td>ürün hakkında tefal gv ayarlı pro express tota...</td>\n",
       "    </tr>\n",
       "    <tr>\n",
       "      <th>8</th>\n",
       "      <td>2838</td>\n",
       "      <td>sony xperia cep telefonu özellikleri genel öze...</td>\n",
       "    </tr>\n",
       "    <tr>\n",
       "      <th>9</th>\n",
       "      <td>2842</td>\n",
       "      <td>samsung g fiyatı özellikleri ürün özelliklerig...</td>\n",
       "    </tr>\n",
       "    <tr>\n",
       "      <th>10</th>\n",
       "      <td>4376</td>\n",
       "      <td>samsung galaxy alpha g beyaz açıklaması akıllı...</td>\n",
       "    </tr>\n",
       "    <tr>\n",
       "      <th>11</th>\n",
       "      <td>4936</td>\n",
       "      <td>tefal gv pro express buhar kazanlı ütü tefal g...</td>\n",
       "    </tr>\n",
       "    <tr>\n",
       "      <th>12</th>\n",
       "      <td>5226</td>\n",
       "      <td>daha kolay daha eğlenceli bir deneyimi webos t...</td>\n",
       "    </tr>\n",
       "    <tr>\n",
       "      <th>13</th>\n",
       "      <td>6127</td>\n",
       "      <td>i̇şletim sistemi android i̇şlemci dört çekirde...</td>\n",
       "    </tr>\n",
       "    <tr>\n",
       "      <th>15</th>\n",
       "      <td>6786</td>\n",
       "      <td>ekran boyutu garanti distribütör hafıza gb kam...</td>\n",
       "    </tr>\n",
       "    <tr>\n",
       "      <th>16</th>\n",
       "      <td>7331</td>\n",
       "      <td>boyutlar    anakart desteği miniitx microatx a...</td>\n",
       "    </tr>\n",
       "    <tr>\n",
       "      <th>17</th>\n",
       "      <td>7409</td>\n",
       "      <td>garanti süresi</td>\n",
       "    </tr>\n",
       "    <tr>\n",
       "      <th>18</th>\n",
       "      <td>7412</td>\n",
       "      <td>garanti süresi</td>\n",
       "    </tr>\n",
       "    <tr>\n",
       "      <th>19</th>\n",
       "      <td>8745</td>\n",
       "      <td>ürün kodu  genel özellikler marka samsung ekra...</td>\n",
       "    </tr>\n",
       "    <tr>\n",
       "      <th>20</th>\n",
       "      <td>8921</td>\n",
       "      <td>asus mecxba gb tablet açıklaması görsel görsel...</td>\n",
       "    </tr>\n",
       "    <tr>\n",
       "      <th>22</th>\n",
       "      <td>8967</td>\n",
       "      <td>sandisk cruzer switch gb usb bellek sdczgb açı...</td>\n",
       "    </tr>\n",
       "    <tr>\n",
       "      <th>23</th>\n",
       "      <td>9542</td>\n",
       "      <td>teknik özellikler surround ses var ndteknozic ...</td>\n",
       "    </tr>\n",
       "    <tr>\n",
       "      <th>24</th>\n",
       "      <td>9639</td>\n",
       "      <td>adet sıradan manuel bir diş fırçasına göre dah...</td>\n",
       "    </tr>\n",
       "    <tr>\n",
       "      <th>26</th>\n",
       "      <td>10356</td>\n",
       "      <td>özellikler smartcontrol lite ile kolay ekran p...</td>\n",
       "    </tr>\n",
       "    <tr>\n",
       "      <th>27</th>\n",
       "      <td>10420</td>\n",
       "      <td>teknik özellikler özellik değer açıklama power...</td>\n",
       "    </tr>\n",
       "    <tr>\n",
       "      <th>28</th>\n",
       "      <td>10452</td>\n",
       "      <td>seagate backup plus ile dijital yaşamınızı bil...</td>\n",
       "    </tr>\n",
       "    <tr>\n",
       "      <th>29</th>\n",
       "      <td>10741</td>\n",
       "      <td>w bar  grdk turbo buhar grdk sürekli buhar ant...</td>\n",
       "    </tr>\n",
       "    <tr>\n",
       "      <th>30</th>\n",
       "      <td>10770</td>\n",
       "      <td>teknik özellikler kapasi̇te ndteknozic</td>\n",
       "    </tr>\n",
       "    <tr>\n",
       "      <th>31</th>\n",
       "      <td>10930</td>\n",
       "      <td>biowarein efsanleşmiş aksiyonmacera türündeki ...</td>\n",
       "    </tr>\n",
       "    <tr>\n",
       "      <th>32</th>\n",
       "      <td>10931</td>\n",
       "      <td>biowarein efsanleşmiş aksiyonmacera türündeki ...</td>\n",
       "    </tr>\n",
       "    <tr>\n",
       "      <th>33</th>\n",
       "      <td>11056</td>\n",
       "      <td>cihaz gözetimsiz bırakıldığında otomatik olara...</td>\n",
       "    </tr>\n",
       "    <tr>\n",
       "      <th>34</th>\n",
       "      <td>11242</td>\n",
       "      <td>fakir rh halojen w dilim yağlı radyatör açıkla...</td>\n",
       "    </tr>\n",
       "    <tr>\n",
       "      <th>36</th>\n",
       "      <td>11368</td>\n",
       "      <td>canon eos d mm lens dslr fotoğraf makinesi açı...</td>\n",
       "    </tr>\n",
       "    <tr>\n",
       "      <th>38</th>\n",
       "      <td>11936</td>\n",
       "      <td>ürün kodu  genel özellikler i̇şlemci ghz dört ...</td>\n",
       "    </tr>\n",
       "    <tr>\n",
       "      <th>39</th>\n",
       "      <td>12272</td>\n",
       "      <td>bağlantı hızı  mbps windows linux macos destek...</td>\n",
       "    </tr>\n",
       "    <tr>\n",
       "      <th>40</th>\n",
       "      <td>12594</td>\n",
       "      <td>lenovo z  iu ghz gb tbgbsshd gb gtm  windows n...</td>\n",
       "    </tr>\n",
       "    <tr>\n",
       "      <th>41</th>\n",
       "      <td>12662</td>\n",
       "      <td>creative sbs a siyah watt rms hoparlör açıklam...</td>\n",
       "    </tr>\n",
       "    <tr>\n",
       "      <th>42</th>\n",
       "      <td>12670</td>\n",
       "      <td>logitech mk wireless desktop siyah klavye mous...</td>\n",
       "    </tr>\n",
       "    <tr>\n",
       "      <th>43</th>\n",
       "      <td>12680</td>\n",
       "      <td>logitech m wireless mouse silver  açıklaması g...</td>\n",
       "    </tr>\n",
       "    <tr>\n",
       "      <th>44</th>\n",
       "      <td>13078</td>\n",
       "      <td>samsung galaxy alpha gfq beyaz cep telefonu uz...</td>\n",
       "    </tr>\n",
       "    <tr>\n",
       "      <th>46</th>\n",
       "      <td>14249</td>\n",
       "      <td>deneyimislink k altın kaplama uçlu yüksek kali...</td>\n",
       "    </tr>\n",
       "    <tr>\n",
       "      <th>47</th>\n",
       "      <td>14326</td>\n",
       "      <td>teknik özellikler renk mor ndteknozic bellek n...</td>\n",
       "    </tr>\n",
       "    <tr>\n",
       "      <th>48</th>\n",
       "      <td>15014</td>\n",
       "      <td>kingston hyperx savage gb ddrmhz bellek hxcsr ...</td>\n",
       "    </tr>\n",
       "    <tr>\n",
       "      <th>49</th>\n",
       "      <td>15063</td>\n",
       "      <td>shlbl tamboy mavi̇ özellikler dışarıda kullanı...</td>\n",
       "    </tr>\n",
       "    <tr>\n",
       "      <th>50</th>\n",
       "      <td>15532</td>\n",
       "      <td>philips gc azur w buharlı ütü açıklaması açıkl...</td>\n",
       "    </tr>\n",
       "    <tr>\n",
       "      <th>51</th>\n",
       "      <td>15625</td>\n",
       "      <td>powersonic va line interactive ups</td>\n",
       "    </tr>\n",
       "    <tr>\n",
       "      <th>52</th>\n",
       "      <td>16076</td>\n",
       "      <td>ürün detay ürün özellikleri ürün yorumları tak...</td>\n",
       "    </tr>\n",
       "    <tr>\n",
       "      <th>53</th>\n",
       "      <td>16870</td>\n",
       "      <td>özellikleri ürün grubu duvar aski aptaşima kap...</td>\n",
       "    </tr>\n",
       "    <tr>\n",
       "      <th>54</th>\n",
       "      <td>16873</td>\n",
       "      <td>teknik özellikler</td>\n",
       "    </tr>\n",
       "    <tr>\n",
       "      <th>55</th>\n",
       "      <td>17016</td>\n",
       "      <td>teknik özellikler</td>\n",
       "    </tr>\n",
       "    <tr>\n",
       "      <th>58</th>\n",
       "      <td>17241</td>\n",
       "      <td>detaylı bilgiler teknik bilgiler i̇şletim sist...</td>\n",
       "    </tr>\n",
       "    <tr>\n",
       "      <th>59</th>\n",
       "      <td>17909</td>\n",
       "      <td>özellikler oyunu kolay oynamak için turbo fonk...</td>\n",
       "    </tr>\n",
       "  </tbody>\n",
       "</table>\n",
       "</div>"
      ],
      "text/plain": [
       "       id                                               text\n",
       "1     462  pavilion nnt pentium n gb gb  dokunmatik win k...\n",
       "2    1300  özelli̇kler ekran ekran boyutu ekran boyutu cm...\n",
       "3    1665  ürün kodu  genel özellikler panel tipi led ekr...\n",
       "5    2485  özellikler smartcontrol lite ile kolay ekran p...\n",
       "6    2495  genel özellikler seagate backup plus ile dijit...\n",
       "7    2580  ürün hakkında tefal gv ayarlı pro express tota...\n",
       "8    2838  sony xperia cep telefonu özellikleri genel öze...\n",
       "9    2842  samsung g fiyatı özellikleri ürün özelliklerig...\n",
       "10   4376  samsung galaxy alpha g beyaz açıklaması akıllı...\n",
       "11   4936  tefal gv pro express buhar kazanlı ütü tefal g...\n",
       "12   5226  daha kolay daha eğlenceli bir deneyimi webos t...\n",
       "13   6127  i̇şletim sistemi android i̇şlemci dört çekirde...\n",
       "15   6786  ekran boyutu garanti distribütör hafıza gb kam...\n",
       "16   7331  boyutlar    anakart desteği miniitx microatx a...\n",
       "17   7409                                     garanti süresi\n",
       "18   7412                                     garanti süresi\n",
       "19   8745  ürün kodu  genel özellikler marka samsung ekra...\n",
       "20   8921  asus mecxba gb tablet açıklaması görsel görsel...\n",
       "22   8967  sandisk cruzer switch gb usb bellek sdczgb açı...\n",
       "23   9542  teknik özellikler surround ses var ndteknozic ...\n",
       "24   9639  adet sıradan manuel bir diş fırçasına göre dah...\n",
       "26  10356  özellikler smartcontrol lite ile kolay ekran p...\n",
       "27  10420  teknik özellikler özellik değer açıklama power...\n",
       "28  10452  seagate backup plus ile dijital yaşamınızı bil...\n",
       "29  10741  w bar  grdk turbo buhar grdk sürekli buhar ant...\n",
       "30  10770             teknik özellikler kapasi̇te ndteknozic\n",
       "31  10930  biowarein efsanleşmiş aksiyonmacera türündeki ...\n",
       "32  10931  biowarein efsanleşmiş aksiyonmacera türündeki ...\n",
       "33  11056  cihaz gözetimsiz bırakıldığında otomatik olara...\n",
       "34  11242  fakir rh halojen w dilim yağlı radyatör açıkla...\n",
       "36  11368  canon eos d mm lens dslr fotoğraf makinesi açı...\n",
       "38  11936  ürün kodu  genel özellikler i̇şlemci ghz dört ...\n",
       "39  12272  bağlantı hızı  mbps windows linux macos destek...\n",
       "40  12594  lenovo z  iu ghz gb tbgbsshd gb gtm  windows n...\n",
       "41  12662  creative sbs a siyah watt rms hoparlör açıklam...\n",
       "42  12670  logitech mk wireless desktop siyah klavye mous...\n",
       "43  12680  logitech m wireless mouse silver  açıklaması g...\n",
       "44  13078  samsung galaxy alpha gfq beyaz cep telefonu uz...\n",
       "46  14249  deneyimislink k altın kaplama uçlu yüksek kali...\n",
       "47  14326  teknik özellikler renk mor ndteknozic bellek n...\n",
       "48  15014  kingston hyperx savage gb ddrmhz bellek hxcsr ...\n",
       "49  15063  shlbl tamboy mavi̇ özellikler dışarıda kullanı...\n",
       "50  15532  philips gc azur w buharlı ütü açıklaması açıkl...\n",
       "51  15625                 powersonic va line interactive ups\n",
       "52  16076  ürün detay ürün özellikleri ürün yorumları tak...\n",
       "53  16870  özellikleri ürün grubu duvar aski aptaşima kap...\n",
       "54  16873                                  teknik özellikler\n",
       "55  17016                                  teknik özellikler\n",
       "58  17241  detaylı bilgiler teknik bilgiler i̇şletim sist...\n",
       "59  17909  özellikler oyunu kolay oynamak için turbo fonk..."
      ]
     },
     "execution_count": 33,
     "metadata": {},
     "output_type": "execute_result"
    }
   ],
   "source": [
    "# lowercasing characters\n",
    "for col in df_explanation.columns:\n",
    "    try:\n",
    "        df_explanation[col] = df_explanation[col].str.lower()\n",
    "    except AttributeError:\n",
    "        pass\n",
    "\n",
    "#removing punctuation\n",
    "df_explanation[\"text\"] = df_explanation[\"text\"].apply(lambda text: remove_punct(text))\n",
    "\n",
    "#removing stop words\n",
    "stop_words = stopwords.words(\"turkish\")\n",
    "\n",
    "df_explanation[\"text\"] = [text for text in df_explanation[\"text\"] if text not in stop_words]\n",
    "\n",
    "#removing characters with length <= 2\n",
    "def remove_small_words(text):\n",
    "    return \" \".join([word for word in text.split() if len(word) > 2])\n",
    "\n",
    "df_explanation[\"text\"] = df_explanation[\"text\"].apply(lambda x: remove_small_words(x))\n",
    "\n",
    "#removing numbers\n",
    "def remove_digit(text):\n",
    "    return text.translate(str.maketrans('', '', digits))\n",
    "\n",
    "df_explanation[\"text\"] = df_explanation[\"text\"].apply(lambda text: remove_digit(text))\n",
    "\n",
    "df_explanation.head(50)"
   ]
  },
  {
   "cell_type": "code",
   "execution_count": 34,
   "id": "2f3ba7b4",
   "metadata": {
    "scrolled": false
   },
   "outputs": [
    {
     "data": {
      "text/plain": [
       "id      1150\n",
       "text    1150\n",
       "dtype: int64"
      ]
     },
     "execution_count": 34,
     "metadata": {},
     "output_type": "execute_result"
    }
   ],
   "source": [
    "# as of now there are 1150 values in both id and text columns\n",
    "df_explanation.count()"
   ]
  },
  {
   "cell_type": "markdown",
   "id": "022d8914",
   "metadata": {},
   "source": [
    "#### IMPORTANT: Shapes are not compatible as a result of the data cleaning process, so I had to drop some explanation data (randomly) to match them shapewise."
   ]
  },
  {
   "cell_type": "code",
   "execution_count": 35,
   "id": "ba26a2e1",
   "metadata": {
    "scrolled": true
   },
   "outputs": [
    {
     "data": {
      "text/plain": [
       "1540"
      ]
     },
     "execution_count": 35,
     "metadata": {},
     "output_type": "execute_result"
    }
   ],
   "source": [
    "len(df_cat[\"cat0\"]) # length = 1137"
   ]
  },
  {
   "cell_type": "code",
   "execution_count": 36,
   "id": "55ec5d5a",
   "metadata": {
    "scrolled": true
   },
   "outputs": [
    {
     "data": {
      "text/plain": [
       "1150"
      ]
     },
     "execution_count": 36,
     "metadata": {},
     "output_type": "execute_result"
    }
   ],
   "source": [
    "len(df_explanation[\"text\"]) # length = 1150"
   ]
  },
  {
   "cell_type": "code",
   "execution_count": 37,
   "id": "aec81495",
   "metadata": {},
   "outputs": [],
   "source": [
    "np.random.seed(10)\n",
    "\n",
    "remove_n = len(df_cat[\"cat0\"]) - len(df_explanation[\"text\"])\n",
    "drop_indices = np.random.choice(df_cat.index, remove_n, replace=False)\n",
    "df_cat = df_cat.drop(drop_indices)"
   ]
  },
  {
   "cell_type": "code",
   "execution_count": 38,
   "id": "ec9a1fe9",
   "metadata": {
    "scrolled": false
   },
   "outputs": [
    {
     "data": {
      "text/plain": [
       "1150"
      ]
     },
     "execution_count": 38,
     "metadata": {},
     "output_type": "execute_result"
    }
   ],
   "source": [
    "len(df_cat[\"cat0\"]) # new length is 1137, now the same with df_explanation"
   ]
  },
  {
   "cell_type": "markdown",
   "id": "f5834622",
   "metadata": {},
   "source": [
    "## 2. Model building"
   ]
  },
  {
   "cell_type": "code",
   "execution_count": 44,
   "id": "6ecedb02",
   "metadata": {},
   "outputs": [],
   "source": [
    "import pickle\n",
    "import tensorflow as tf\n",
    "from tensorflow.keras.preprocessing.text import Tokenizer\n",
    "from tensorflow.keras.preprocessing.sequence import pad_sequences\n",
    "from tensorflow.keras.models import Sequential\n",
    "from tensorflow.keras.layers import Embedding, LSTM, Dense, Dropout, SpatialDropout1D\n",
    "from sklearn.model_selection import train_test_split\n",
    "from sklearn.preprocessing import LabelEncoder\n",
    "from sklearn.metrics import classification_report, accuracy_score\n",
    "from sklearn.utils.class_weight import compute_class_weight"
   ]
  },
  {
   "cell_type": "markdown",
   "id": "e7d4b4fe",
   "metadata": {},
   "source": [
    "### Preparing the training and test data: tokenization, text to seq, label encoding:"
   ]
  },
  {
   "cell_type": "code",
   "execution_count": null,
   "id": "fc207cb5",
   "metadata": {},
   "outputs": [],
   "source": [
    "# geting 10000 most frequently used words\n",
    "num_words = 10000\n",
    "\n",
    "tokenizer = Tokenizer() \n",
    "\n",
    "# saving tokenizer\n",
    "with open(\"turkish_tokenizer.pickle\", \"wb\") as handle:\n",
    "    pickle.dump(tokenizer, handle, protocol=pickle.HIGHEST_PROTOCOL)\n",
    "    \n",
    "# load tokenizer\n",
    "with open(\"turkish_tokenizer.pickle\", \"rb\") as handle:\n",
    "    turkish_tokenizer = pickle.load(handle)\n",
    "\n",
    "# converting text to sequences & padding\n",
    "X = turkish_tokenizer.texts_to_sequences(df_explanation[\"text\"])\n",
    "max_length = 300\n",
    "X = pad_sequences(X, maxlen=max_length, padding=\"post\")\n",
    "\n",
    "# encoding category labels\n",
    "label_encoder = LabelEncoder()\n",
    "y = label_encoder.fit_transform(df_cat[\"cat0\"])\n",
    "\n",
    "# y to a one-hot encoded matrix\n",
    "y = tf.keras.utils.to_categorical(y)"
   ]
  },
  {
   "cell_type": "markdown",
   "id": "f1460e8d",
   "metadata": {},
   "source": [
    "#### Train-test split of data"
   ]
  },
  {
   "cell_type": "code",
   "execution_count": 46,
   "id": "64085f7f",
   "metadata": {},
   "outputs": [],
   "source": [
    "X_train, X_test, y_train, y_test = train_test_split(X, y, test_size=0.2, random_state=42)"
   ]
  },
  {
   "cell_type": "markdown",
   "id": "a90bfab4",
   "metadata": {},
   "source": [
    "### 2.1. LSTM model"
   ]
  },
  {
   "cell_type": "code",
   "execution_count": 47,
   "id": "ae01196f",
   "metadata": {
    "scrolled": true
   },
   "outputs": [
    {
     "name": "stdout",
     "output_type": "stream",
     "text": [
      "Model: \"sequential\"\n",
      "_________________________________________________________________\n",
      " Layer (type)                Output Shape              Param #   \n",
      "=================================================================\n",
      " embedding (Embedding)       (None, 300, 1000)         1000      \n",
      "                                                                 \n",
      " spatial_dropout1d (Spatial  (None, 300, 1000)         0         \n",
      " Dropout1D)                                                      \n",
      "                                                                 \n",
      " lstm (LSTM)                 (None, 100)               440400    \n",
      "                                                                 \n",
      " dense (Dense)               (None, 17)                1717      \n",
      "                                                                 \n",
      "=================================================================\n",
      "Total params: 443117 (1.69 MB)\n",
      "Trainable params: 443117 (1.69 MB)\n",
      "Non-trainable params: 0 (0.00 Byte)\n",
      "_________________________________________________________________\n",
      "None\n"
     ]
    }
   ],
   "source": [
    "model = Sequential()\n",
    "\n",
    "# for semantic purposes, embedding layer is appropriate given we deal with descriptions\n",
    "model.add(Embedding(input_dim=len(tokenizer.word_index) + 1, output_dim = 1000, input_length= max_length,\n",
    "                   mask_zero=True))\n",
    "\n",
    "# dropout to prevent overfitting and improve generalization\n",
    "model.add(SpatialDropout1D(0.2)) \n",
    "\n",
    "# dropout again. also, lstm is great with sequential data architecture\n",
    "model.add(LSTM(100, dropout=0.2, recurrent_dropout=0.2))\n",
    "\n",
    "# used 17 since it is the amount of categories\n",
    "model.add(Dense(17, activation=\"softmax\"))\n",
    "\n",
    "model.compile(loss=\"categorical_crossentropy\", optimizer=\"adam\", metrics=[\"accuracy\", \"mse\"])"
   ]
  },
  {
   "cell_type": "markdown",
   "id": "2fbf7e40",
   "metadata": {},
   "source": [
    "#### Model summary"
   ]
  },
  {
   "cell_type": "code",
   "execution_count": null,
   "id": "f0a0c7f2",
   "metadata": {},
   "outputs": [],
   "source": [
    "print(model.summary())"
   ]
  },
  {
   "cell_type": "markdown",
   "id": "88b088dd",
   "metadata": {},
   "source": [
    "#### Model fitting"
   ]
  },
  {
   "cell_type": "code",
   "execution_count": 48,
   "id": "0c31ca08",
   "metadata": {
    "scrolled": true
   },
   "outputs": [
    {
     "name": "stdout",
     "output_type": "stream",
     "text": [
      "Epoch 1/20\n",
      "23/23 [==============================] - 19s 777ms/step - loss: 2.8253 - accuracy: 0.3641 - mse: 0.0553 - val_loss: 2.8156 - val_accuracy: 0.4185 - val_mse: 0.0552\n",
      "Epoch 2/20\n",
      "23/23 [==============================] - 18s 774ms/step - loss: 2.8090 - accuracy: 0.3791 - mse: 0.0552 - val_loss: 2.7984 - val_accuracy: 0.4185 - val_mse: 0.0551\n",
      "Epoch 3/20\n",
      "23/23 [==============================] - 18s 775ms/step - loss: 2.7929 - accuracy: 0.3791 - mse: 0.0551 - val_loss: 2.7817 - val_accuracy: 0.4185 - val_mse: 0.0550\n",
      "Epoch 4/20\n",
      "23/23 [==============================] - 17s 760ms/step - loss: 2.7774 - accuracy: 0.3791 - mse: 0.0550 - val_loss: 2.7650 - val_accuracy: 0.4185 - val_mse: 0.0549\n",
      "Epoch 5/20\n",
      "23/23 [==============================] - 18s 770ms/step - loss: 2.7617 - accuracy: 0.3791 - mse: 0.0548 - val_loss: 2.7489 - val_accuracy: 0.4185 - val_mse: 0.0548\n",
      "Epoch 6/20\n",
      "23/23 [==============================] - 18s 770ms/step - loss: 2.7468 - accuracy: 0.3791 - mse: 0.0547 - val_loss: 2.7327 - val_accuracy: 0.4185 - val_mse: 0.0546\n",
      "Epoch 7/20\n",
      "23/23 [==============================] - 18s 765ms/step - loss: 2.7320 - accuracy: 0.3791 - mse: 0.0546 - val_loss: 2.7169 - val_accuracy: 0.4185 - val_mse: 0.0545\n",
      "Epoch 8/20\n",
      "23/23 [==============================] - 18s 775ms/step - loss: 2.7174 - accuracy: 0.3791 - mse: 0.0545 - val_loss: 2.7016 - val_accuracy: 0.4185 - val_mse: 0.0544\n",
      "Epoch 9/20\n",
      "23/23 [==============================] - 18s 766ms/step - loss: 2.7031 - accuracy: 0.3791 - mse: 0.0544 - val_loss: 2.6868 - val_accuracy: 0.4185 - val_mse: 0.0543\n",
      "Epoch 10/20\n",
      "23/23 [==============================] - 18s 777ms/step - loss: 2.6894 - accuracy: 0.3791 - mse: 0.0543 - val_loss: 2.6717 - val_accuracy: 0.4185 - val_mse: 0.0541\n",
      "Epoch 11/20\n",
      "23/23 [==============================] - 18s 770ms/step - loss: 2.6758 - accuracy: 0.3791 - mse: 0.0542 - val_loss: 2.6573 - val_accuracy: 0.4185 - val_mse: 0.0540\n",
      "Epoch 12/20\n",
      "23/23 [==============================] - 18s 769ms/step - loss: 2.6623 - accuracy: 0.3791 - mse: 0.0540 - val_loss: 2.6430 - val_accuracy: 0.4185 - val_mse: 0.0539\n",
      "Epoch 13/20\n",
      "23/23 [==============================] - 18s 771ms/step - loss: 2.6493 - accuracy: 0.3791 - mse: 0.0539 - val_loss: 2.6292 - val_accuracy: 0.4185 - val_mse: 0.0538\n",
      "Epoch 14/20\n",
      "23/23 [==============================] - 18s 766ms/step - loss: 2.6365 - accuracy: 0.3791 - mse: 0.0538 - val_loss: 2.6156 - val_accuracy: 0.4185 - val_mse: 0.0536\n",
      "Epoch 15/20\n",
      "23/23 [==============================] - 18s 771ms/step - loss: 2.6242 - accuracy: 0.3791 - mse: 0.0537 - val_loss: 2.6019 - val_accuracy: 0.4185 - val_mse: 0.0535\n",
      "Epoch 16/20\n",
      "23/23 [==============================] - 18s 769ms/step - loss: 2.6118 - accuracy: 0.3791 - mse: 0.0536 - val_loss: 2.5891 - val_accuracy: 0.4185 - val_mse: 0.0534\n",
      "Epoch 17/20\n",
      "23/23 [==============================] - 18s 774ms/step - loss: 2.6000 - accuracy: 0.3791 - mse: 0.0535 - val_loss: 2.5763 - val_accuracy: 0.4185 - val_mse: 0.0533\n",
      "Epoch 18/20\n",
      "23/23 [==============================] - 18s 770ms/step - loss: 2.5883 - accuracy: 0.3791 - mse: 0.0534 - val_loss: 2.5638 - val_accuracy: 0.4185 - val_mse: 0.0532\n",
      "Epoch 19/20\n",
      "23/23 [==============================] - 18s 776ms/step - loss: 2.5770 - accuracy: 0.3791 - mse: 0.0533 - val_loss: 2.5514 - val_accuracy: 0.4185 - val_mse: 0.0530\n",
      "Epoch 20/20\n",
      "23/23 [==============================] - 18s 770ms/step - loss: 2.5658 - accuracy: 0.3791 - mse: 0.0532 - val_loss: 2.5391 - val_accuracy: 0.4185 - val_mse: 0.0529\n"
     ]
    },
    {
     "data": {
      "text/plain": [
       "<keras.src.callbacks.History at 0x290c0f220>"
      ]
     },
     "execution_count": 48,
     "metadata": {},
     "output_type": "execute_result"
    }
   ],
   "source": [
    "model.fit(X_train, y_train, epochs=20, batch_size=32, validation_split=0.2)"
   ]
  },
  {
   "cell_type": "markdown",
   "id": "19da663a",
   "metadata": {},
   "source": [
    "### Model performance metrics"
   ]
  },
  {
   "cell_type": "code",
   "execution_count": 49,
   "id": "5c7a9947",
   "metadata": {
    "scrolled": true
   },
   "outputs": [
    {
     "name": "stdout",
     "output_type": "stream",
     "text": [
      "8/8 [==============================] - 1s 166ms/step\n"
     ]
    }
   ],
   "source": [
    "# model evaluation\n",
    "y_pred = model.predict(X_test)\n",
    "y_pred_classes = np.argmax(y_pred, axis=1)\n",
    "y_true = np.argmax(y_test, axis=1)"
   ]
  },
  {
   "cell_type": "code",
   "execution_count": 50,
   "id": "94b5b3ed",
   "metadata": {
    "scrolled": false
   },
   "outputs": [
    {
     "name": "stdout",
     "output_type": "stream",
     "text": [
      "                        precision    recall  f1-score   support\n",
      "\n",
      "              aksesuar       0.00      0.00      0.00        11\n",
      "                 baskı       0.00      0.00      0.00        13\n",
      "   bilgi teknolojileri       0.00      0.00      0.00         9\n",
      "            bilgisayar       0.35      1.00      0.52        81\n",
      "bilgisayar bileşenleri       0.00      0.00      0.00        32\n",
      "            elektronik       0.00      0.00      0.00         5\n",
      "         ev elektronik       0.00      0.00      0.00        22\n",
      "              fotoğraf       0.00      0.00      0.00        10\n",
      "         kişisel bakım       0.00      0.00      0.00         0\n",
      "              otomobil       0.00      0.00      0.00         1\n",
      "                  oyun       0.00      0.00      0.00         7\n",
      "        ses ve görüntü       0.00      0.00      0.00        10\n",
      "               telefon       0.00      0.00      0.00        14\n",
      "            televizyon       0.00      0.00      0.00         4\n",
      "      tüketim ürünleri       0.00      0.00      0.00         4\n",
      "               yazılım       0.00      0.00      0.00         3\n",
      "       çevre birimleri       0.00      0.00      0.00         4\n",
      "\n",
      "             micro avg       0.35      0.35      0.35       230\n",
      "             macro avg       0.02      0.06      0.03       230\n",
      "          weighted avg       0.12      0.35      0.18       230\n",
      "\n",
      "Accuracy: 35.21739130434783\n"
     ]
    },
    {
     "name": "stderr",
     "output_type": "stream",
     "text": [
      "/Users/iremarici/anaconda3/lib/python3.10/site-packages/sklearn/metrics/_classification.py:1469: UndefinedMetricWarning: Precision and F-score are ill-defined and being set to 0.0 in labels with no predicted samples. Use `zero_division` parameter to control this behavior.\n",
      "  _warn_prf(average, modifier, msg_start, len(result))\n",
      "/Users/iremarici/anaconda3/lib/python3.10/site-packages/sklearn/metrics/_classification.py:1469: UndefinedMetricWarning: Recall and F-score are ill-defined and being set to 0.0 in labels with no true samples. Use `zero_division` parameter to control this behavior.\n",
      "  _warn_prf(average, modifier, msg_start, len(result))\n",
      "/Users/iremarici/anaconda3/lib/python3.10/site-packages/sklearn/metrics/_classification.py:1469: UndefinedMetricWarning: Precision and F-score are ill-defined and being set to 0.0 in labels with no predicted samples. Use `zero_division` parameter to control this behavior.\n",
      "  _warn_prf(average, modifier, msg_start, len(result))\n",
      "/Users/iremarici/anaconda3/lib/python3.10/site-packages/sklearn/metrics/_classification.py:1469: UndefinedMetricWarning: Recall and F-score are ill-defined and being set to 0.0 in labels with no true samples. Use `zero_division` parameter to control this behavior.\n",
      "  _warn_prf(average, modifier, msg_start, len(result))\n",
      "/Users/iremarici/anaconda3/lib/python3.10/site-packages/sklearn/metrics/_classification.py:1469: UndefinedMetricWarning: Precision and F-score are ill-defined and being set to 0.0 in labels with no predicted samples. Use `zero_division` parameter to control this behavior.\n",
      "  _warn_prf(average, modifier, msg_start, len(result))\n",
      "/Users/iremarici/anaconda3/lib/python3.10/site-packages/sklearn/metrics/_classification.py:1469: UndefinedMetricWarning: Recall and F-score are ill-defined and being set to 0.0 in labels with no true samples. Use `zero_division` parameter to control this behavior.\n",
      "  _warn_prf(average, modifier, msg_start, len(result))\n"
     ]
    }
   ],
   "source": [
    "labels = list(range(len(label_encoder.classes_)))\n",
    "print(classification_report(y_true, y_pred_classes, labels=labels, target_names=label_encoder.classes_))\n",
    "accuracy = accuracy_score(y_true, y_pred_classes)\n",
    "print(f\"Accuracy: {(accuracy * 100)}\")"
   ]
  },
  {
   "cell_type": "markdown",
   "id": "992629cf",
   "metadata": {},
   "source": [
    "### Before skipping to interface building...\n",
    "---\n",
    "The model is indeed behaving worse than expected. This step required too much manipulation: changing model parameters, model architecture, ensuring data is okay, weighting classes and such. Unfortunately, probably due to the nature of dataset, the model performance did not improve. \n",
    "\n",
    "Dataset is ambiguous, the categories are not clear, and there is an inbalance of products category-wise. I have repeatedly improve input data yet there were little to no improvement in the model performance."
   ]
  },
  {
   "cell_type": "markdown",
   "id": "838887c4",
   "metadata": {},
   "source": [
    "## 3. Building the interface for inference"
   ]
  },
  {
   "cell_type": "code",
   "execution_count": 51,
   "id": "c4e48af0",
   "metadata": {},
   "outputs": [],
   "source": [
    "import customtkinter as ctk\n",
    "import tkinter as tk"
   ]
  },
  {
   "cell_type": "code",
   "execution_count": 52,
   "id": "f9aed002",
   "metadata": {},
   "outputs": [],
   "source": [
    "ctk.set_appearance_mode(\"dark\")\n",
    "ctk.set_default_color_theme(\"dark-blue\")"
   ]
  },
  {
   "cell_type": "code",
   "execution_count": null,
   "id": "bdc3e1a3",
   "metadata": {},
   "outputs": [],
   "source": [
    "root = ctk.CTk()\n",
    "root.geometry(\"500x450\")\n",
    "\n",
    "# the infer function is what makes prediction possible.\n",
    "# explanation data as raw is given and processed through the model.\n",
    "def infer():\n",
    "    input_text = text_widget.get(\"1.0\", tk.END).strip()\n",
    "    input_seq = tokenizer.texts_to_sequences([input_text])\n",
    "    input_padded = pad_sequences(input_seq, maxlen=max_length, padding=\"post\")\n",
    "    prediction = model.predict(input_padded)\n",
    "    predicted_class = label_encoder.inverse_transform(np.argmax(prediction, axis=1))\n",
    "    result_label.configure(text=f\"Predicted Category: {predicted_class[0]}\")\n",
    "    \n",
    "# this function makes it easier to use interface. instead of grabbing a description\n",
    "# from the dataset, this step retrieves a random description every time.\n",
    "def random_exp():\n",
    "    random_idx = np.random.randint(len(df_explanation))\n",
    "    random_text = df_explanation['text'].iloc[random_idx]\n",
    "    text_widget.delete(\"1.0\", tk.END)\n",
    "    text_widget.insert(tk.END, random_text)\n",
    "    \n",
    "frame = ctk.CTkFrame(master=root)\n",
    "frame.pack(pady=20, padx=60, fill= \"both\", expand = True)\n",
    "\n",
    "label = ctk.CTkLabel(master = frame, text = \"Product category prediction\")\n",
    "label.pack(pady = 12, padx = 10)\n",
    "\n",
    "entry_frame = ctk.CTkFrame(master=frame)\n",
    "entry_frame.pack(pady=12, padx=10, fill=\"both\", expand=True)\n",
    "\n",
    "text_widget = tk.Text(master=entry_frame, height=10, wrap=tk.WORD)\n",
    "text_widget.pack(side=\"left\", fill=\"both\", expand=True, padx=10)\n",
    "\n",
    "button1 = ctk.CTkButton(master= frame, text=\"Random explanation\", command=random_exp)\n",
    "button1.pack(pady = 12, padx=10)\n",
    "\n",
    "button = ctk.CTkButton(master = frame, text = \"Predict\", command = infer)\n",
    "button.pack(pady = 12, padx = 10)\n",
    "\n",
    "frame1 = ctk.CTkFrame(master=root)\n",
    "frame1.pack(pady=20, padx=60, fill=\"both\", expand=True)\n",
    "\n",
    "result_label = ctk.CTkLabel(master=frame1, text = \"Click on predict to see result\")\n",
    "result_label.pack(pady=12, padx=10)\n",
    "\n",
    "root.mainloop()"
   ]
  },
  {
   "cell_type": "markdown",
   "id": "b002951d",
   "metadata": {},
   "source": [
    "## Final remarks\n",
    "---\n",
    "This project has been a challenge, and I have enjoyed applying my knowledge practically. Yet, since I have almost no idea of containerization, even though I have repeatedly tried to deploy, unfortunately I was not successful. \n",
    "\n",
    "Moreover, I would wish to present a more accurate and reliable model, but to my current practical skills, I think I have tried my best to improve the model and data. Having more time would help me to ensure all deliverables are submitted as expected.\n",
    "\n",
    "At this moment, **this model is not containerized and deployed**. Regardless, I will also attach my Dockerfile and attemps to my repo to show them.\n",
    "\n",
    "Thanks,\n",
    "\n",
    "Irem."
   ]
  }
 ],
 "metadata": {
  "kernelspec": {
   "display_name": "Python 3 (ipykernel)",
   "language": "python",
   "name": "python3"
  },
  "language_info": {
   "codemirror_mode": {
    "name": "ipython",
    "version": 3
   },
   "file_extension": ".py",
   "mimetype": "text/x-python",
   "name": "python",
   "nbconvert_exporter": "python",
   "pygments_lexer": "ipython3",
   "version": "3.10.9"
  }
 },
 "nbformat": 4,
 "nbformat_minor": 5
}
